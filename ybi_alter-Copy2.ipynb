{
 "cells": [
  {
   "cell_type": "markdown",
   "metadata": {},
   "source": [
    "# Importing The Libraries"
   ]
  },
  {
   "cell_type": "code",
   "execution_count": 1,
   "metadata": {
    "id": "NFliPYW3amtF"
   },
   "outputs": [
    {
     "data": {
      "text/plain": [
       "'2.4.0'"
      ]
     },
     "execution_count": 1,
     "metadata": {},
     "output_type": "execute_result"
    }
   ],
   "source": [
    "import tensorflow as tf\n",
    "from keras.preprocessing.image import ImageDataGenerator\n",
    "\n",
    "tf.__version__\n"
   ]
  },
  {
   "cell_type": "markdown",
   "metadata": {},
   "source": [
    "##  Part 1 - Data Preprocessing"
   ]
  },
  {
   "cell_type": "markdown",
   "metadata": {},
   "source": [
    "### Preprocessing the Training set"
   ]
  },
  {
   "cell_type": "code",
   "execution_count": 2,
   "metadata": {
    "id": "To7CPOOBavcf"
   },
   "outputs": [
    {
     "name": "stdout",
     "output_type": "stream",
     "text": [
      "Found 102 images belonging to 3 classes.\n"
     ]
    }
   ],
   "source": [
    "train_datagen = ImageDataGenerator(\trescale = 1./255,\n",
    "\tshear_range = 0.2,\n",
    "\tzoom_range = 0.2,\n",
    "\thorizontal_flip = True)\n",
    "training_set = train_datagen.flow_from_directory('data/train',\n",
    "\ttarget_size =(64,64),\n",
    "\tbatch_size = 10,\n",
    "\tclass_mode ='categorical')"
   ]
  },
  {
   "cell_type": "markdown",
   "metadata": {},
   "source": [
    "### Preprocessing the Test set"
   ]
  },
  {
   "cell_type": "code",
   "execution_count": 3,
   "metadata": {
    "id": "xUPJ52qvbBRk"
   },
   "outputs": [
    {
     "name": "stdout",
     "output_type": "stream",
     "text": [
      "Found 24 images belonging to 3 classes.\n"
     ]
    }
   ],
   "source": [
    "test_datagen = ImageDataGenerator(rescale = 1./255)\n",
    "test_set = test_datagen.flow_from_directory(\t'data/test',\n",
    "\ttarget_size =(64,64),\n",
    "\tbatch_size = 10,\n",
    "\tclass_mode='categorical')"
   ]
  },
  {
   "cell_type": "markdown",
   "metadata": {},
   "source": [
    "## Part 2 - Building the CNN"
   ]
  },
  {
   "cell_type": "markdown",
   "metadata": {},
   "source": [
    "### Initialising the CNN"
   ]
  },
  {
   "cell_type": "code",
   "execution_count": 4,
   "metadata": {
    "id": "RwZ0iRaHbIFi"
   },
   "outputs": [],
   "source": [
    "cnn = tf.keras.models.Sequential()"
   ]
  },
  {
   "cell_type": "markdown",
   "metadata": {},
   "source": [
    "### Step 1 - Convolution"
   ]
  },
  {
   "cell_type": "code",
   "execution_count": 5,
   "metadata": {
    "scrolled": true
   },
   "outputs": [],
   "source": [
    "cnn.add(tf.keras.layers.Conv2D(32,3,activation='relu',input_shape=[64,64,3]))"
   ]
  },
  {
   "cell_type": "markdown",
   "metadata": {},
   "source": [
    "### Step 2 - Pooling"
   ]
  },
  {
   "cell_type": "code",
   "execution_count": 6,
   "metadata": {
    "id": "Z9nsAIThbQoO"
   },
   "outputs": [],
   "source": [
    "cnn.add(tf.keras.layers.MaxPool2D(pool_size=2,strides=2))"
   ]
  },
  {
   "cell_type": "markdown",
   "metadata": {},
   "source": [
    "#### Adding a second convolutional layer"
   ]
  },
  {
   "cell_type": "code",
   "execution_count": 7,
   "metadata": {
    "id": "IqycG_-6bSq_"
   },
   "outputs": [],
   "source": [
    "cnn.add(tf.keras.layers.Conv2D(64,3,activation='relu'))\n",
    "cnn.add(tf.keras.layers.MaxPool2D(pool_size=2,strides=2))"
   ]
  },
  {
   "cell_type": "markdown",
   "metadata": {},
   "source": [
    "#### Adding a third convolutional layer"
   ]
  },
  {
   "cell_type": "code",
   "execution_count": 8,
   "metadata": {},
   "outputs": [],
   "source": [
    "cnn.add(tf.keras.layers.Conv2D(128,3,activation='relu'))\n",
    "cnn.add(tf.keras.layers.MaxPool2D(pool_size=2,strides=2))"
   ]
  },
  {
   "cell_type": "markdown",
   "metadata": {},
   "source": [
    "#### Adding a fourth convolutional layer"
   ]
  },
  {
   "cell_type": "code",
   "execution_count": 9,
   "metadata": {},
   "outputs": [],
   "source": [
    "cnn.add(tf.keras.layers.Conv2D(256,3,activation='relu'))\n",
    "cnn.add(tf.keras.layers.MaxPool2D(pool_size=2,strides=2))"
   ]
  },
  {
   "cell_type": "markdown",
   "metadata": {},
   "source": [
    "### Step 3 - Flattening"
   ]
  },
  {
   "cell_type": "code",
   "execution_count": 10,
   "metadata": {
    "id": "3wsrC2uZbW9d"
   },
   "outputs": [],
   "source": [
    "cnn.add(tf.keras.layers.Flatten())"
   ]
  },
  {
   "cell_type": "markdown",
   "metadata": {},
   "source": [
    "### Step 4 - Full Connection"
   ]
  },
  {
   "cell_type": "code",
   "execution_count": 11,
   "metadata": {
    "id": "d0lRfmLJbaNO"
   },
   "outputs": [],
   "source": [
    "cnn.add(tf.keras.layers.Dense(units=128,activation='relu'))"
   ]
  },
  {
   "cell_type": "markdown",
   "metadata": {},
   "source": [
    "### Step 5 - Output Layer"
   ]
  },
  {
   "cell_type": "code",
   "execution_count": 12,
   "metadata": {
    "id": "EhaIg4lDbb71"
   },
   "outputs": [],
   "source": [
    "cnn.add(tf.keras.layers.Dense(units=3,activation='softmax'))"
   ]
  },
  {
   "cell_type": "markdown",
   "metadata": {},
   "source": [
    "## Part 3 - Training the CNN "
   ]
  },
  {
   "cell_type": "markdown",
   "metadata": {},
   "source": [
    "### Compiling the CNN"
   ]
  },
  {
   "cell_type": "code",
   "execution_count": 13,
   "metadata": {
    "id": "GIMDX0_sbgRJ"
   },
   "outputs": [],
   "source": [
    "cnn.compile(optimizer ='adam',loss='categorical_crossentropy',\tmetrics=['accuracy'])\n"
   ]
  },
  {
   "cell_type": "markdown",
   "metadata": {},
   "source": [
    "### Training the CNN on the Training set and evaluating it on the Test set"
   ]
  },
  {
   "cell_type": "code",
   "execution_count": 14,
   "metadata": {},
   "outputs": [],
   "source": [
    "epochs =83"
   ]
  },
  {
   "cell_type": "code",
   "execution_count": 15,
   "metadata": {
    "id": "uxuG1739bo5D",
    "scrolled": true
   },
   "outputs": [
    {
     "name": "stdout",
     "output_type": "stream",
     "text": [
      "Epoch 1/83\n",
      "11/11 [==============================] - 3s 294ms/step - loss: 1.1234 - accuracy: 0.3995 - val_loss: 1.0739 - val_accuracy: 0.4167\n",
      "Epoch 2/83\n",
      "11/11 [==============================] - 3s 264ms/step - loss: 1.0876 - accuracy: 0.3853 - val_loss: 1.0272 - val_accuracy: 0.4167\n",
      "Epoch 3/83\n",
      "11/11 [==============================] - 3s 233ms/step - loss: 1.0762 - accuracy: 0.3913 - val_loss: 0.9643 - val_accuracy: 0.4167\n",
      "Epoch 4/83\n",
      "11/11 [==============================] - 3s 231ms/step - loss: 1.0101 - accuracy: 0.4430 - val_loss: 0.9871 - val_accuracy: 0.4583\n",
      "Epoch 5/83\n",
      "11/11 [==============================] - 2s 224ms/step - loss: 1.0385 - accuracy: 0.4559 - val_loss: 0.8549 - val_accuracy: 0.5417\n",
      "Epoch 6/83\n",
      "11/11 [==============================] - 2s 225ms/step - loss: 0.9016 - accuracy: 0.6120 - val_loss: 0.7900 - val_accuracy: 0.7083\n",
      "Epoch 7/83\n",
      "11/11 [==============================] - 2s 226ms/step - loss: 0.9239 - accuracy: 0.5067 - val_loss: 0.7386 - val_accuracy: 0.7083\n",
      "Epoch 8/83\n",
      "11/11 [==============================] - 3s 238ms/step - loss: 1.0135 - accuracy: 0.4665 - val_loss: 0.8789 - val_accuracy: 0.5000\n",
      "Epoch 9/83\n",
      "11/11 [==============================] - 3s 293ms/step - loss: 0.9474 - accuracy: 0.4953 - val_loss: 0.7485 - val_accuracy: 0.5833\n",
      "Epoch 10/83\n",
      "11/11 [==============================] - 3s 234ms/step - loss: 0.8245 - accuracy: 0.5880 - val_loss: 0.6691 - val_accuracy: 0.7083\n",
      "Epoch 11/83\n",
      "11/11 [==============================] - 2s 245ms/step - loss: 0.7797 - accuracy: 0.5766 - val_loss: 0.5186 - val_accuracy: 0.7917\n",
      "Epoch 12/83\n",
      "11/11 [==============================] - 3s 230ms/step - loss: 0.7418 - accuracy: 0.6625 - val_loss: 0.6227 - val_accuracy: 0.7500\n",
      "Epoch 13/83\n",
      "11/11 [==============================] - 2s 225ms/step - loss: 0.7021 - accuracy: 0.6286 - val_loss: 0.4819 - val_accuracy: 0.7500\n",
      "Epoch 14/83\n",
      "11/11 [==============================] - 2s 226ms/step - loss: 0.6342 - accuracy: 0.6679 - val_loss: 0.4688 - val_accuracy: 0.7500\n",
      "Epoch 15/83\n",
      "11/11 [==============================] - 2s 230ms/step - loss: 0.6128 - accuracy: 0.6780 - val_loss: 0.4651 - val_accuracy: 0.8333\n",
      "Epoch 16/83\n",
      "11/11 [==============================] - 2s 232ms/step - loss: 0.3821 - accuracy: 0.8913 - val_loss: 0.4159 - val_accuracy: 0.7500\n",
      "Epoch 17/83\n",
      "11/11 [==============================] - 2s 228ms/step - loss: 0.4251 - accuracy: 0.7835 - val_loss: 0.3478 - val_accuracy: 0.8750\n",
      "Epoch 18/83\n",
      "11/11 [==============================] - 2s 228ms/step - loss: 0.4598 - accuracy: 0.8551 - val_loss: 0.2658 - val_accuracy: 0.8750\n",
      "Epoch 19/83\n",
      "11/11 [==============================] - 3s 242ms/step - loss: 0.3432 - accuracy: 0.8703 - val_loss: 0.2977 - val_accuracy: 0.8750\n",
      "Epoch 20/83\n",
      "11/11 [==============================] - 3s 240ms/step - loss: 0.3596 - accuracy: 0.8093 - val_loss: 0.4184 - val_accuracy: 0.7083\n",
      "Epoch 21/83\n",
      "11/11 [==============================] - 3s 258ms/step - loss: 0.3229 - accuracy: 0.8344 - val_loss: 0.2508 - val_accuracy: 0.9167\n",
      "Epoch 22/83\n",
      "11/11 [==============================] - 3s 262ms/step - loss: 0.2646 - accuracy: 0.9040 - val_loss: 0.2979 - val_accuracy: 0.8750\n",
      "Epoch 23/83\n",
      "11/11 [==============================] - 3s 246ms/step - loss: 0.2614 - accuracy: 0.8937 - val_loss: 0.1918 - val_accuracy: 0.9167\n",
      "Epoch 24/83\n",
      "11/11 [==============================] - 3s 249ms/step - loss: 0.2017 - accuracy: 0.9585 - val_loss: 0.1328 - val_accuracy: 0.9583\n",
      "Epoch 25/83\n",
      "11/11 [==============================] - 3s 259ms/step - loss: 0.1529 - accuracy: 0.9657 - val_loss: 0.1294 - val_accuracy: 0.9167\n",
      "Epoch 26/83\n",
      "11/11 [==============================] - 3s 241ms/step - loss: 0.2245 - accuracy: 0.9424 - val_loss: 0.0665 - val_accuracy: 1.0000\n",
      "Epoch 27/83\n",
      "11/11 [==============================] - 3s 249ms/step - loss: 0.1503 - accuracy: 0.9481 - val_loss: 0.1443 - val_accuracy: 0.9167\n",
      "Epoch 28/83\n",
      "11/11 [==============================] - 3s 244ms/step - loss: 0.1921 - accuracy: 0.9129 - val_loss: 0.4714 - val_accuracy: 0.7917\n",
      "Epoch 29/83\n",
      "11/11 [==============================] - 3s 232ms/step - loss: 0.3669 - accuracy: 0.8372 - val_loss: 0.1022 - val_accuracy: 0.9583\n",
      "Epoch 30/83\n",
      "11/11 [==============================] - 3s 313ms/step - loss: 0.3617 - accuracy: 0.8655 - val_loss: 0.1667 - val_accuracy: 0.9583\n",
      "Epoch 31/83\n",
      "11/11 [==============================] - 3s 254ms/step - loss: 0.2075 - accuracy: 0.9183 - val_loss: 0.0783 - val_accuracy: 0.9583\n",
      "Epoch 32/83\n",
      "11/11 [==============================] - 3s 233ms/step - loss: 0.0961 - accuracy: 0.9802 - val_loss: 0.0776 - val_accuracy: 0.9583\n",
      "Epoch 33/83\n",
      "11/11 [==============================] - 3s 257ms/step - loss: 0.0941 - accuracy: 0.9489 - val_loss: 0.2291 - val_accuracy: 0.8750\n",
      "Epoch 34/83\n",
      "11/11 [==============================] - 3s 253ms/step - loss: 0.1635 - accuracy: 0.9554 - val_loss: 0.1206 - val_accuracy: 0.9167\n",
      "Epoch 35/83\n",
      "11/11 [==============================] - 3s 302ms/step - loss: 0.1867 - accuracy: 0.9231 - val_loss: 0.2024 - val_accuracy: 0.9583\n",
      "Epoch 36/83\n",
      "11/11 [==============================] - 3s 237ms/step - loss: 0.1396 - accuracy: 0.9651 - val_loss: 0.0057 - val_accuracy: 1.0000\n",
      "Epoch 37/83\n",
      "11/11 [==============================] - 3s 234ms/step - loss: 0.1017 - accuracy: 0.9593 - val_loss: 0.1041 - val_accuracy: 0.9167\n",
      "Epoch 38/83\n",
      "11/11 [==============================] - 3s 239ms/step - loss: 0.2481 - accuracy: 0.9163 - val_loss: 0.1488 - val_accuracy: 0.9167\n",
      "Epoch 39/83\n",
      "11/11 [==============================] - 3s 259ms/step - loss: 0.2743 - accuracy: 0.8962 - val_loss: 0.0737 - val_accuracy: 1.0000\n",
      "Epoch 40/83\n",
      "11/11 [==============================] - 3s 252ms/step - loss: 0.2133 - accuracy: 0.8854 - val_loss: 0.0265 - val_accuracy: 1.0000\n",
      "Epoch 41/83\n",
      "11/11 [==============================] - 3s 241ms/step - loss: 0.0873 - accuracy: 0.9679 - val_loss: 0.0255 - val_accuracy: 1.0000\n",
      "Epoch 42/83\n",
      "11/11 [==============================] - 3s 244ms/step - loss: 0.0527 - accuracy: 0.9813 - val_loss: 0.0050 - val_accuracy: 1.0000\n",
      "Epoch 43/83\n",
      "11/11 [==============================] - 3s 236ms/step - loss: 0.0285 - accuracy: 1.0000 - val_loss: 0.0035 - val_accuracy: 1.0000\n",
      "Epoch 44/83\n",
      "11/11 [==============================] - 3s 229ms/step - loss: 0.0207 - accuracy: 1.0000 - val_loss: 0.0022 - val_accuracy: 1.0000\n",
      "Epoch 45/83\n",
      "11/11 [==============================] - 3s 244ms/step - loss: 0.0092 - accuracy: 1.0000 - val_loss: 0.0016 - val_accuracy: 1.0000\n",
      "Epoch 46/83\n",
      "11/11 [==============================] - 3s 265ms/step - loss: 0.0068 - accuracy: 1.0000 - val_loss: 0.0012 - val_accuracy: 1.0000\n",
      "Epoch 47/83\n",
      "11/11 [==============================] - 4s 380ms/step - loss: 0.0150 - accuracy: 1.0000 - val_loss: 0.0017 - val_accuracy: 1.0000\n",
      "Epoch 48/83\n",
      "11/11 [==============================] - 4s 318ms/step - loss: 0.0103 - accuracy: 1.0000 - val_loss: 3.4384e-04 - val_accuracy: 1.0000\n",
      "Epoch 49/83\n",
      "11/11 [==============================] - 3s 286ms/step - loss: 0.0307 - accuracy: 0.9929 - val_loss: 3.3193e-04 - val_accuracy: 1.0000\n",
      "Epoch 50/83\n",
      "11/11 [==============================] - 3s 289ms/step - loss: 0.0505 - accuracy: 0.9823 - val_loss: 0.0129 - val_accuracy: 1.0000\n",
      "Epoch 51/83\n",
      "11/11 [==============================] - 3s 254ms/step - loss: 0.0430 - accuracy: 0.9648 - val_loss: 0.0100 - val_accuracy: 1.0000\n",
      "Epoch 52/83\n",
      "11/11 [==============================] - 3s 256ms/step - loss: 0.0169 - accuracy: 1.0000 - val_loss: 0.0553 - val_accuracy: 0.9583\n",
      "Epoch 53/83\n",
      "11/11 [==============================] - 3s 252ms/step - loss: 0.0422 - accuracy: 0.9891 - val_loss: 0.0246 - val_accuracy: 1.0000\n",
      "Epoch 54/83\n",
      "11/11 [==============================] - 3s 247ms/step - loss: 0.0128 - accuracy: 1.0000 - val_loss: 0.0036 - val_accuracy: 1.0000\n",
      "Epoch 55/83\n",
      "11/11 [==============================] - 3s 244ms/step - loss: 0.0036 - accuracy: 1.0000 - val_loss: 9.8384e-04 - val_accuracy: 1.0000\n",
      "Epoch 56/83\n",
      "11/11 [==============================] - 3s 240ms/step - loss: 0.0085 - accuracy: 0.9953 - val_loss: 0.0035 - val_accuracy: 1.0000\n",
      "Epoch 57/83\n",
      "11/11 [==============================] - 3s 236ms/step - loss: 0.0233 - accuracy: 1.0000 - val_loss: 0.0013 - val_accuracy: 1.0000\n",
      "Epoch 58/83\n"
     ]
    },
    {
     "name": "stdout",
     "output_type": "stream",
     "text": [
      "11/11 [==============================] - 3s 238ms/step - loss: 0.0085 - accuracy: 1.0000 - val_loss: 3.0136e-04 - val_accuracy: 1.0000\n",
      "Epoch 59/83\n",
      "11/11 [==============================] - 3s 232ms/step - loss: 0.0145 - accuracy: 0.9975 - val_loss: 0.0034 - val_accuracy: 1.0000\n",
      "Epoch 60/83\n",
      "11/11 [==============================] - 3s 235ms/step - loss: 0.0248 - accuracy: 0.9923 - val_loss: 0.0090 - val_accuracy: 1.0000\n",
      "Epoch 61/83\n",
      "11/11 [==============================] - 3s 279ms/step - loss: 0.0033 - accuracy: 1.0000 - val_loss: 0.0057 - val_accuracy: 1.0000\n",
      "Epoch 62/83\n",
      "11/11 [==============================] - 3s 243ms/step - loss: 0.0243 - accuracy: 0.9737 - val_loss: 4.7883e-05 - val_accuracy: 1.0000\n",
      "Epoch 63/83\n",
      "11/11 [==============================] - 3s 247ms/step - loss: 0.0027 - accuracy: 1.0000 - val_loss: 2.3572e-05 - val_accuracy: 1.0000\n",
      "Epoch 64/83\n",
      "11/11 [==============================] - 3s 244ms/step - loss: 0.0012 - accuracy: 1.0000 - val_loss: 4.7156e-05 - val_accuracy: 1.0000\n",
      "Epoch 65/83\n",
      "11/11 [==============================] - 3s 257ms/step - loss: 3.7830e-04 - accuracy: 1.0000 - val_loss: 4.7627e-05 - val_accuracy: 1.0000\n",
      "Epoch 66/83\n",
      "11/11 [==============================] - 3s 254ms/step - loss: 0.0028 - accuracy: 1.0000 - val_loss: 3.5126e-05 - val_accuracy: 1.0000\n",
      "Epoch 67/83\n",
      "11/11 [==============================] - 3s 243ms/step - loss: 0.0129 - accuracy: 0.9909 - val_loss: 0.0121 - val_accuracy: 1.0000\n",
      "Epoch 68/83\n",
      "11/11 [==============================] - 3s 248ms/step - loss: 0.1094 - accuracy: 0.9673 - val_loss: 0.0081 - val_accuracy: 1.0000\n",
      "Epoch 69/83\n",
      "11/11 [==============================] - 3s 249ms/step - loss: 0.1279 - accuracy: 0.9725 - val_loss: 0.0012 - val_accuracy: 1.0000\n",
      "Epoch 70/83\n",
      "11/11 [==============================] - 3s 249ms/step - loss: 0.1704 - accuracy: 0.9273 - val_loss: 0.0052 - val_accuracy: 1.0000\n",
      "Epoch 71/83\n",
      "11/11 [==============================] - 3s 249ms/step - loss: 0.0443 - accuracy: 0.9755 - val_loss: 0.0025 - val_accuracy: 1.0000\n",
      "Epoch 72/83\n",
      "11/11 [==============================] - 3s 249ms/step - loss: 0.0312 - accuracy: 1.0000 - val_loss: 0.0351 - val_accuracy: 0.9583\n",
      "Epoch 73/83\n",
      "11/11 [==============================] - 3s 257ms/step - loss: 0.0406 - accuracy: 0.9770 - val_loss: 0.0180 - val_accuracy: 1.0000\n",
      "Epoch 74/83\n",
      "11/11 [==============================] - 3s 242ms/step - loss: 0.0280 - accuracy: 0.9733 - val_loss: 7.3712e-04 - val_accuracy: 1.0000\n",
      "Epoch 75/83\n",
      "11/11 [==============================] - 3s 247ms/step - loss: 0.0924 - accuracy: 0.9689 - val_loss: 4.9585e-04 - val_accuracy: 1.0000\n",
      "Epoch 76/83\n",
      "11/11 [==============================] - 3s 230ms/step - loss: 0.0259 - accuracy: 0.9953 - val_loss: 9.1366e-04 - val_accuracy: 1.0000\n",
      "Epoch 77/83\n",
      "11/11 [==============================] - 3s 233ms/step - loss: 0.0216 - accuracy: 0.9904 - val_loss: 3.7096e-04 - val_accuracy: 1.0000\n",
      "Epoch 78/83\n",
      "11/11 [==============================] - 3s 246ms/step - loss: 0.0085 - accuracy: 1.0000 - val_loss: 3.0051e-04 - val_accuracy: 1.0000\n",
      "Epoch 79/83\n",
      "11/11 [==============================] - 3s 264ms/step - loss: 0.0079 - accuracy: 1.0000 - val_loss: 0.0012 - val_accuracy: 1.0000\n",
      "Epoch 80/83\n",
      "11/11 [==============================] - 3s 237ms/step - loss: 0.0041 - accuracy: 1.0000 - val_loss: 5.1898e-04 - val_accuracy: 1.0000\n",
      "Epoch 81/83\n",
      "11/11 [==============================] - 3s 240ms/step - loss: 0.0059 - accuracy: 0.9984 - val_loss: 5.7287e-05 - val_accuracy: 1.0000\n",
      "Epoch 82/83\n",
      "11/11 [==============================] - 3s 257ms/step - loss: 9.8810e-04 - accuracy: 1.0000 - val_loss: 4.3640e-04 - val_accuracy: 1.0000\n",
      "Epoch 83/83\n",
      "11/11 [==============================] - 3s 260ms/step - loss: 0.0023 - accuracy: 1.0000 - val_loss: 2.4217e-04 - val_accuracy: 1.0000\n"
     ]
    }
   ],
   "source": [
    "history = cnn.fit(x=training_set,validation_data=test_set,epochs=epochs )"
   ]
  },
  {
   "cell_type": "markdown",
   "metadata": {},
   "source": [
    "## Part 4 - Adding Graphs of Accuracy and Loss"
   ]
  },
  {
   "cell_type": "code",
   "execution_count": 16,
   "metadata": {},
   "outputs": [
    {
     "data": {
      "image/png": "[encoded data removed]",
      "text/plain": [
       "<Figure size 576x576 with 2 Axes>"
      ]
     },
     "metadata": {
      "needs_background": "light"
     },
     "output_type": "display_data"
    }
   ],
   "source": [
    "import matplotlib.pyplot as plt\n",
    "\n",
    "\n",
    "acc = history.history['accuracy']\n",
    "val_acc = history.history['val_accuracy']\n",
    "\n",
    "loss = history.history['loss']\n",
    "val_loss = history.history['val_loss']\n",
    "\n",
    "epochs_range = range(epochs)\n",
    "\n",
    "plt.figure(figsize=(8, 8))\n",
    "plt.subplot(1, 2, 1)\n",
    "plt.plot(epochs_range, acc, label='Training Accuracy')\n",
    "plt.plot(epochs_range, val_acc, label='Test Accuracy')\n",
    "plt.legend(loc='lower right')\n",
    "plt.title('Training and Test Accuracy')\n",
    "\n",
    "plt.subplot(1, 2, 2)\n",
    "plt.plot(epochs_range, loss, label='Training Loss')\n",
    "plt.plot(epochs_range, val_loss, label='Test Loss')\n",
    "plt.legend(loc='upper right')\n",
    "plt.title('Training and Test Loss')\n",
    "plt.show()"
   ]
  },
  {
   "cell_type": "markdown",
   "metadata": {},
   "source": [
    "## Part 5 - Making  Predictions with Tkinter GUI"
   ]
  },
  {
   "cell_type": "code",
   "execution_count": 17,
   "metadata": {
    "id": "CnbXR0t6brEY"
   },
   "outputs": [
    {
     "name": "stdout",
     "output_type": "stream",
     "text": [
      "0\n",
      "[[1. 0. 0.]]\n",
      "0\n",
      "[[1. 0. 0.]]\n",
      "0\n",
      "[[1. 0. 0.]]\n",
      "2\n",
      "[[0. 0. 1.]]\n",
      "0\n",
      "[[1. 0. 0.]]\n",
      "0\n",
      "[[1. 0. 0.]]\n",
      "0\n",
      "[[1. 0. 0.]]\n",
      "0\n",
      "[[1. 0. 0.]]\n",
      "0\n",
      "[[1. 0. 0.]]\n",
      "0\n",
      "[[1. 0. 0.]]\n",
      "0\n",
      "[[1. 0. 0.]]\n",
      "0\n",
      "[[1. 0. 0.]]\n",
      "0\n",
      "[[1. 0. 0.]]\n",
      "0\n",
      "[[1. 0. 0.]]\n",
      "1\n",
      "[[0. 1. 0.]]\n",
      "0\n",
      "[[1. 0. 0.]]\n",
      "1\n",
      "[[0. 1. 0.]]\n",
      "1\n",
      "[[0. 1. 0.]]\n",
      "1\n",
      "[[0. 1. 0.]]\n",
      "1\n",
      "[[0. 1. 0.]]\n",
      "2\n",
      "[[0. 0. 1.]]\n",
      "1\n",
      "[[0. 1. 0.]]\n",
      "0\n",
      "[[1. 0. 0.]]\n",
      "1\n",
      "[[0. 1. 0.]]\n",
      "2\n",
      "[[0. 0. 1.]]\n",
      "2\n",
      "[[0. 0. 1.]]\n",
      "2\n",
      "[[0. 0. 1.]]\n",
      "2\n",
      "[[0. 0. 1.]]\n",
      "2\n",
      "[[0. 0. 1.]]\n",
      "2\n",
      "[[0. 0. 1.]]\n",
      "2\n",
      "[[0. 0. 1.]]\n",
      "2\n",
      "[[0. 0. 1.]]\n",
      "0\n",
      "[[1. 0. 0.]]\n",
      "2\n",
      "[[0. 0. 1.]]\n",
      "2\n",
      "[[0. 0. 1.]]\n"
     ]
    },
    {
     "name": "stderr",
     "output_type": "stream",
     "text": [
      "Exception in Tkinter callback\n",
      "Traceback (most recent call last):\n",
      "  File \"A:\\Anaconda\\lib\\site-packages\\PIL\\Image.py\", line 2895, in open\n",
      "    fp.seek(0)\n",
      "AttributeError: 'str' object has no attribute 'seek'\n",
      "\n",
      "During handling of the above exception, another exception occurred:\n",
      "\n",
      "Traceback (most recent call last):\n",
      "  File \"A:\\Anaconda\\lib\\tkinter\\__init__.py\", line 1883, in __call__\n",
      "    return self.func(*args)\n",
      "  File \"<ipython-input-17-92f4e57a7767>\", line 14, in showimage\n",
      "    imgs = Image.open(fln)\n",
      "  File \"A:\\Anaconda\\lib\\site-packages\\PIL\\Image.py\", line 2897, in open\n",
      "    fp = io.BytesIO(fp.read())\n",
      "AttributeError: 'str' object has no attribute 'read'\n"
     ]
    },
    {
     "name": "stdout",
     "output_type": "stream",
     "text": [
      "0\n",
      "[[1. 0. 0.]]\n",
      "0\n",
      "[[1. 0. 0.]]\n",
      "0\n",
      "[[1. 0. 0.]]\n",
      "0\n",
      "[[1. 0. 0.]]\n",
      "0\n",
      "[[1. 0. 0.]]\n",
      "0\n",
      "[[1. 0. 0.]]\n",
      "1\n",
      "[[0. 1. 0.]]\n",
      "1\n",
      "[[0. 1. 0.]]\n",
      "1\n",
      "[[0. 1. 0.]]\n",
      "1\n",
      "[[0. 1. 0.]]\n",
      "1\n",
      "[[0. 1. 0.]]\n",
      "1\n",
      "[[0. 1. 0.]]\n",
      "2\n",
      "[[0. 0. 1.]]\n",
      "2\n",
      "[[0. 0. 1.]]\n",
      "2\n",
      "[[0. 0. 1.]]\n",
      "2\n",
      "[[0. 0. 1.]]\n",
      "2\n",
      "[[0. 0. 1.]]\n",
      "2\n",
      "[[0. 0. 1.]]\n",
      "2\n",
      "[[0. 0. 1.]]\n"
     ]
    }
   ],
   "source": [
    "import numpy as np\n",
    "from keras.preprocessing import image   \n",
    "from tkinter import *\n",
    "from tkinter import filedialog\n",
    "import os\n",
    "import tkinter as tk\n",
    "from PIL import Image, ImageTk \n",
    "\n",
    "global imgs\n",
    "global label_cong2\n",
    "\n",
    "def showimage():\n",
    "    fln = filedialog.askopenfilename(initialdir=os.getcwd(),title=\"Select Image File\",filetypes=((\"JPEG File\",\"*.jpeg\"),(\"JPG File\",\"*.jpg\"),(\"PNG File\",\"*.png\"),(\"All Files\",\"*.*\")))\n",
    "    imgs = Image.open(fln)\n",
    "    imgs.thumbnail((350,350))\n",
    "    imgs = ImageTk.PhotoImage(image=imgs,size=(64,64))\n",
    "    lbl.configure(image=imgs)\n",
    "    lbl.image = imgs\n",
    "    test_image = image.load_img(fln, target_size = (64, 64))\n",
    "    test_image = image.img_to_array(test_image)\n",
    "    test_image = np.expand_dims(test_image, axis = 0)\n",
    "    result = cnn.predict(test_image)\n",
    "    print(np.argmax(result))\n",
    "    training_set.class_indices\n",
    "    if result[0][0] > 0.5:\n",
    "        prediction = 'Bengu'\n",
    "        record = 'No criminal record'\n",
    "        print(result)\n",
    "    elif result[0][1] > 0.5:\n",
    "        prediction = 'Irmak'\n",
    "        record = 'No criminal record'\n",
    "        print(result)\n",
    "    elif result[0][2] > 0.5:\n",
    "        prediction = 'Yusuf'\n",
    "        record = 'No criminal record'\n",
    "        print(result)\n",
    "        \n",
    "    result_text = \"Prediction: \" + str(prediction) + '\\n' + str(record)\n",
    "    text_var.set(result_text)\n",
    "    \n",
    "\n",
    "def closewindow():\n",
    "    root.destroy()\n",
    "    \n",
    "\n",
    "root=Tk()\n",
    "\n",
    "frm=Frame(root)\n",
    "frm.pack(side=BOTTOM, padx=15, pady=15)\n",
    "\n",
    "lbl = Label(root)\n",
    "lbl.pack()\n",
    "\n",
    "btn = Button(frm, text=\"Browse Image\",command=showimage)\n",
    "btn.pack(side=tk.LEFT)\n",
    "text_var = StringVar()\n",
    "text_var.set(\"WELCOME\")\n",
    "label_cong2 = Label ( root , anchor = CENTER , textvariable = text_var, bg = 'gray80' , fg = 'gray20' ,\n",
    "           font = ( \"Helvetica\" , 16  ,\"bold\" ) )\n",
    "label_cong2.pack ( expand = 1 , ipadx = \"15\" , ipady =\"12\" )\n",
    "\n",
    "\n",
    "btn2 = Button(frm, text=\"Exit\",command=closewindow)\n",
    "btn2.pack(side=tk.LEFT, padx=10)\n",
    "\n",
    "root.title(\"Image Browser\")\n",
    "root.geometry(\"700x550\")\n",
    "root.mainloop()\n",
    "\n",
    "\n",
    "\n",
    "\n",
    " \n",
    "\n"
   ]
  },
  {
   "cell_type": "code",
   "execution_count": null,
   "metadata": {},
   "outputs": [],
   "source": []
  }
 ],
 "metadata": {
  "colab": {
   "collapsed_sections": [],
   "name": "ybi.ipynb",
   "provenance": []
  },
  "kernelspec": {
   "display_name": "Python 3",
   "language": "python",
   "name": "python3"
  },
  "language_info": {
   "codemirror_mode": {
    "name": "ipython",
    "version": 3
   },
   "file_extension": ".py",
   "mimetype": "text/x-python",
   "name": "python",
   "nbconvert_exporter": "python",
   "pygments_lexer": "ipython3",
   "version": "3.8.5"
  }
 },
 "nbformat": 4,
 "nbformat_minor": 1
}
